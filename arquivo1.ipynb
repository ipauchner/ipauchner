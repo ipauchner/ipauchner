{
  "nbformat": 4,
  "nbformat_minor": 0,
  "metadata": {
    "colab": {
      "name": "arquivo1.ipynb",
      "provenance": [],
      "mount_file_id": "1AyCg1SnmIDulOizF9DHZCvJFS3RdDC2n",
      "authorship_tag": "ABX9TyN/kd9sConjsonAQjpR0Zzh",
      "include_colab_link": true
    },
    "kernelspec": {
      "name": "python3",
      "display_name": "Python 3"
    },
    "language_info": {
      "name": "python"
    }
  },
  "cells": [
    {
      "cell_type": "markdown",
      "metadata": {
        "id": "view-in-github",
        "colab_type": "text"
      },
      "source": [
        "<a href=\"https://colab.research.google.com/github/ipauchner/ipauchner/blob/main/arquivo1.ipynb\" target=\"_parent\"><img src=\"https://colab.research.google.com/assets/colab-badge.svg\" alt=\"Open In Colab\"/></a>"
      ]
    },
    {
      "cell_type": "code",
      "execution_count": null,
      "metadata": {
        "id": "LBXIjOdFIPJD"
      },
      "outputs": [],
      "source": [
        ""
      ]
    }
  ]
}